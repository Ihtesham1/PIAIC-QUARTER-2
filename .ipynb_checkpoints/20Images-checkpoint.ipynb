{
 "cells": [
  {
   "cell_type": "markdown",
   "metadata": {},
   "source": [
    "# 20 Pictures assignment"
   ]
  },
  {
   "cell_type": "code",
   "execution_count": 2,
   "metadata": {},
   "outputs": [
    {
     "name": "stdout",
     "output_type": "stream",
     "text": [
      "File not supported\n",
      "File not supported\n",
      "File not supported\n",
      "File not supported\n",
      "Pictures resized to the size of 200\n",
      "['as_200.jpg', 'download (10)_200.jpg', 'download (11)_200.jpg', 'download (5)_200.jpg', 'download (6)_200.jpg', 'download (7)_200.jpg', 'download (8)_200.jpg', 'download (9)_200.jpg', 'download_200.jpg', 'fs_200.jpg', 'images (1)_200.jpg', 'images (2)_200.jpg', 'images (3)_200.jpg', 'images (4)_200.jpg', 'images (5)_200.jpg', 'images (6)_200.jpg', 'images (7)_200.jpg', 'images_200.jpg', 'qw_200.jpg', 'sd_200.jpg']\n"
     ]
    },
    {
     "ename": "PermissionError",
     "evalue": "[Errno 13] Permission denied: './pics'",
     "output_type": "error",
     "traceback": [
      "\u001b[1;31m---------------------------------------------------------------------------\u001b[0m",
      "\u001b[1;31mPermissionError\u001b[0m                           Traceback (most recent call last)",
      "\u001b[1;32m<ipython-input-2-76ce21a0ead1>\u001b[0m in \u001b[0;36m<module>\u001b[1;34m\u001b[0m\n\u001b[0;32m     46\u001b[0m \u001b[1;32mfor\u001b[0m \u001b[0mname\u001b[0m \u001b[1;32min\u001b[0m \u001b[0mpics\u001b[0m\u001b[1;33m:\u001b[0m\u001b[1;33m\u001b[0m\u001b[0m\n\u001b[0;32m     47\u001b[0m     \u001b[0mget_ipython\u001b[0m\u001b[1;33m(\u001b[0m\u001b[1;33m)\u001b[0m\u001b[1;33m.\u001b[0m\u001b[0mrun_line_magic\u001b[0m\u001b[1;33m(\u001b[0m\u001b[1;34m'matplotlib'\u001b[0m\u001b[1;33m,\u001b[0m \u001b[1;34m'inline'\u001b[0m\u001b[1;33m)\u001b[0m\u001b[1;33m\u001b[0m\u001b[0m\n\u001b[1;32m---> 48\u001b[1;33m     \u001b[0mimg\u001b[0m \u001b[1;33m=\u001b[0m \u001b[0mImage\u001b[0m\u001b[1;33m.\u001b[0m\u001b[0mopen\u001b[0m\u001b[1;33m(\u001b[0m\u001b[1;34mr\"./pics\"\u001b[0m\u001b[1;33m)\u001b[0m\u001b[1;33m\u001b[0m\u001b[0m\n\u001b[0m\u001b[0;32m     49\u001b[0m     \u001b[1;32mif\u001b[0m \u001b[0mimg\u001b[0m\u001b[1;33m.\u001b[0m\u001b[0mendswith\u001b[0m\u001b[1;33m(\u001b[0m\u001b[1;34m'.jpg'\u001b[0m\u001b[1;33m)\u001b[0m\u001b[1;33m:\u001b[0m\u001b[1;33m\u001b[0m\u001b[0m\n\u001b[0;32m     50\u001b[0m         \u001b[0mim\u001b[0m \u001b[1;33m=\u001b[0m \u001b[0mplt\u001b[0m\u001b[1;33m.\u001b[0m\u001b[0mimread\u001b[0m\u001b[1;33m(\u001b[0m\u001b[0mname\u001b[0m\u001b[1;33m)\u001b[0m\u001b[1;33m\u001b[0m\u001b[0m\n",
      "\u001b[1;32mE:\\anaconda\\lib\\site-packages\\PIL\\Image.py\u001b[0m in \u001b[0;36mopen\u001b[1;34m(fp, mode)\u001b[0m\n\u001b[0;32m   2578\u001b[0m \u001b[1;33m\u001b[0m\u001b[0m\n\u001b[0;32m   2579\u001b[0m     \u001b[1;32mif\u001b[0m \u001b[0mfilename\u001b[0m\u001b[1;33m:\u001b[0m\u001b[1;33m\u001b[0m\u001b[0m\n\u001b[1;32m-> 2580\u001b[1;33m         \u001b[0mfp\u001b[0m \u001b[1;33m=\u001b[0m \u001b[0mbuiltins\u001b[0m\u001b[1;33m.\u001b[0m\u001b[0mopen\u001b[0m\u001b[1;33m(\u001b[0m\u001b[0mfilename\u001b[0m\u001b[1;33m,\u001b[0m \u001b[1;34m\"rb\"\u001b[0m\u001b[1;33m)\u001b[0m\u001b[1;33m\u001b[0m\u001b[0m\n\u001b[0m\u001b[0;32m   2581\u001b[0m         \u001b[0mexclusive_fp\u001b[0m \u001b[1;33m=\u001b[0m \u001b[1;32mTrue\u001b[0m\u001b[1;33m\u001b[0m\u001b[0m\n\u001b[0;32m   2582\u001b[0m \u001b[1;33m\u001b[0m\u001b[0m\n",
      "\u001b[1;31mPermissionError\u001b[0m: [Errno 13] Permission denied: './pics'"
     ]
    }
   ],
   "source": [
    "import matplotlib.pylab as plt\n",
    "import numpy as np\n",
    "from PIL import Image\n",
    "import os\n",
    "\n",
    "#Code to resize pictures\n",
    "#the variable that contain the size of converted images\n",
    "imageSize = (200,200)\n",
    "\n",
    "for img in os.listdir('.'):\n",
    "    if img.endswith('.jpg'):\n",
    "        image = Image.open(img)\n",
    "        imageName, imageExt = os.path.splitext(img)\n",
    "        \n",
    "        \n",
    "        image.thumbnail(imageSize)\n",
    "        image.save('./pics/{}_200{}'.format(imageName, imageExt))\n",
    "    else:\n",
    "        print(\"File not supported\")\n",
    "        \n",
    "print(\"Pictures resized to the size of 200\")\n",
    "\n",
    "\n",
    "#code to convert resized pitures to a numpy array\n",
    "\n",
    "    \n",
    "#initializing emty list\n",
    "pics = []\n",
    "\n",
    "#main aray which will contain all the images\n",
    "mainArray = np.zeros(shape=(200,200,3))\n",
    "\n",
    "#this will look for all the available files in this directory\n",
    "rootDir = './pics'\n",
    "for dirName, subdirList, fileList in os.walk(rootDir):\n",
    "    for fname in fileList:\n",
    "        #this will each picture name in the empty pics list\n",
    "        if fname.endswith('.jpg'):\n",
    "            pics.append(fname)\n",
    "\n",
    "#printing all the names of pictures\n",
    "print(pics)\n",
    "\n",
    "\n",
    "#this loop take each name from pics list and convert it in Array\n",
    "for name in pics:\n",
    "    %matplotlib inline\n",
    "    img = Image.open(r\"./pics\")\n",
    "    if img.endswith('.jpg'):\n",
    "        im = plt.imread(name)\n",
    "        im = im[:200,:200,:3]\n",
    "        #Adding each picture in the main array whcih contain all images\n",
    "        mainArray += im\n",
    "        print(\"length of single picture:\",len(im), \"||  Shape of this picture: \",im.shape)\n",
    "        \n",
    "    else:\n",
    "        print(\"not supported file\")\n",
    "    \n",
    "print(\"\\nProcess comleted with the size of array: \")\n",
    "print(\"Size of main array containing all the images: \",len(mainArray))\n",
    "\n",
    "\n",
    "\n",
    "\n",
    "\n",
    "\n"
   ]
  },
  {
   "cell_type": "code",
   "execution_count": null,
   "metadata": {},
   "outputs": [],
   "source": []
  },
  {
   "cell_type": "code",
   "execution_count": null,
   "metadata": {},
   "outputs": [],
   "source": []
  }
 ],
 "metadata": {
  "kernelspec": {
   "display_name": "Python 3",
   "language": "python",
   "name": "python3"
  },
  "language_info": {
   "codemirror_mode": {
    "name": "ipython",
    "version": 3
   },
   "file_extension": ".py",
   "mimetype": "text/x-python",
   "name": "python",
   "nbconvert_exporter": "python",
   "pygments_lexer": "ipython3",
   "version": "3.6.1"
  }
 },
 "nbformat": 4,
 "nbformat_minor": 2
}
