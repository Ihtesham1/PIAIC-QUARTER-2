{
 "cells": [
  {
   "cell_type": "markdown",
   "metadata": {},
   "source": [
    "# 20 Pictures assignment"
   ]
  },
  {
   "cell_type": "code",
   "execution_count": 51,
   "metadata": {},
   "outputs": [
    {
     "name": "stdout",
     "output_type": "stream",
     "text": [
      "['as.jpg', 'download (10).jpg', 'download (11).jpg', 'download (5).jpg', 'download (6).jpg', 'download (7).jpg', 'download (8).jpg', 'download (9).jpg', 'download.jpg', 'fs.jpg', 'images (1).jpg', 'images (2).jpg', 'images (3).jpg', 'images (4).jpg', 'images (5).jpg', 'images (6).jpg', 'images (7).jpg', 'images.jpg', 'qw.jpg', 'sd.jpg', 'Untitled.ipynb', 'Untitled-checkpoint.ipynb']\n",
      "length of single picture: 150 ||  Shape of this picture:  (150, 150, 3)\n",
      "length of single picture: 150 ||  Shape of this picture:  (150, 150, 3)\n",
      "length of single picture: 150 ||  Shape of this picture:  (150, 150, 3)\n",
      "length of single picture: 150 ||  Shape of this picture:  (150, 150, 3)\n",
      "length of single picture: 150 ||  Shape of this picture:  (150, 150, 3)\n",
      "length of single picture: 150 ||  Shape of this picture:  (150, 150, 3)\n",
      "length of single picture: 150 ||  Shape of this picture:  (150, 150, 3)\n",
      "length of single picture: 150 ||  Shape of this picture:  (150, 150, 3)\n",
      "length of single picture: 150 ||  Shape of this picture:  (150, 150, 3)\n",
      "length of single picture: 150 ||  Shape of this picture:  (150, 150, 3)\n",
      "length of single picture: 150 ||  Shape of this picture:  (150, 150, 3)\n",
      "length of single picture: 150 ||  Shape of this picture:  (150, 150, 3)\n",
      "length of single picture: 150 ||  Shape of this picture:  (150, 150, 3)\n",
      "length of single picture: 150 ||  Shape of this picture:  (150, 150, 3)\n",
      "length of single picture: 150 ||  Shape of this picture:  (150, 150, 3)\n",
      "length of single picture: 150 ||  Shape of this picture:  (150, 150, 3)\n",
      "length of single picture: 150 ||  Shape of this picture:  (150, 150, 3)\n",
      "length of single picture: 150 ||  Shape of this picture:  (150, 150, 3)\n",
      "length of single picture: 150 ||  Shape of this picture:  (150, 150, 3)\n",
      "length of single picture: 150 ||  Shape of this picture:  (150, 150, 3)\n",
      "not supported file\n",
      "not supported file\n",
      "\n",
      "Process comleted with the size of array: \n",
      "Size of main array containing all the images:  150\n"
     ]
    }
   ],
   "source": [
    "import os\n",
    "import numpy as np\n",
    "import matplotlib.pylab as plt\n",
    "from PIL import Image\n",
    "\n",
    "def plti(im, h=8, **kwargs):\n",
    "    \"\"\"\n",
    "    Helper function to plot an image.\n",
    "    \"\"\"\n",
    "    y = im.shape[0]\n",
    "    x = im.shape[1]\n",
    "    w = (y/x) * h\n",
    "    plt.figure(figsize=(w,h))\n",
    "    plt.imshow(im, interpolation=\"none\", **kwargs)\n",
    "    plt.axis('off')\n",
    "    \n",
    "#initializing emty list\n",
    "pics = []\n",
    "\n",
    "#main aray which will contain all the images\n",
    "mainArray = np.zeros(shape=(150,150,3))\n",
    "\n",
    "#this will look for all the available files in this directory\n",
    "rootDir = '.'\n",
    "for dirName, subdirList, fileList in os.walk(rootDir):\n",
    "    for fname in fileList:\n",
    "        #this will each picture name in the empty pics list\n",
    "        pics.append(fname)\n",
    "\n",
    "#printing all the names of pictures\n",
    "print(pics)\n",
    "\n",
    "\n",
    "#this loop take each name from pics list and convert it in Array\n",
    "for name in pics:\n",
    "    %matplotlib inline\n",
    "    try:\n",
    "        img = Image.open(name)\n",
    "        if img.format == \"JPEG\":\n",
    "            im = plt.imread(name)\n",
    "            im = im[:150,:150,:3]\n",
    "            #Adding each picture in the main array whcih contain all images\n",
    "            mainArray += im\n",
    "            print(\"length of single picture:\",len(im), \"||  Shape of this picture: \",im.shape)\n",
    "    except:\n",
    "        print(\"not supported file\")\n",
    "    \n",
    "print(\"\\nProcess comleted with the size of array: \")\n",
    "print(\"Size of main array containing all the images: \",len(mainArray))\n"
   ]
  },
  {
   "cell_type": "code",
   "execution_count": null,
   "metadata": {},
   "outputs": [],
   "source": []
  }
 ],
 "metadata": {
  "kernelspec": {
   "display_name": "Python 3",
   "language": "python",
   "name": "python3"
  },
  "language_info": {
   "codemirror_mode": {
    "name": "ipython",
    "version": 3
   },
   "file_extension": ".py",
   "mimetype": "text/x-python",
   "name": "python",
   "nbconvert_exporter": "python",
   "pygments_lexer": "ipython3",
   "version": "3.6.1"
  }
 },
 "nbformat": 4,
 "nbformat_minor": 2
}
